{
 "cells": [
  {
   "cell_type": "code",
   "execution_count": 1,
   "id": "61eed64d-c22e-4923-ba1c-3b556eb7dfd6",
   "metadata": {},
   "outputs": [],
   "source": [
    "\n",
    "import numpy as np"
   ]
  },
  {
   "cell_type": "code",
   "execution_count": 2,
   "id": "fd32382b-6ab8-4edb-864b-f290425877fa",
   "metadata": {},
   "outputs": [
    {
     "data": {
      "text/plain": [
       "array([1, 2, 3])"
      ]
     },
     "execution_count": 2,
     "metadata": {},
     "output_type": "execute_result"
    }
   ],
   "source": [
    "#Creating an ARRAY\n",
    "a=np.array([1,2,3])\n",
    "a\n"
   ]
  },
  {
   "cell_type": "code",
   "execution_count": 3,
   "id": "2cf4dc55-6c5d-4fbe-86a2-c15e9575f4bc",
   "metadata": {},
   "outputs": [
    {
     "data": {
      "text/plain": [
       "array([10, 40, 50])"
      ]
     },
     "execution_count": 3,
     "metadata": {},
     "output_type": "execute_result"
    }
   ],
   "source": [
    "b=np.array([10,40,50])\n",
    "b"
   ]
  },
  {
   "cell_type": "code",
   "execution_count": 4,
   "id": "b5b313e4-bcc6-4c3c-ad54-b86b720b2c9f",
   "metadata": {},
   "outputs": [
    {
     "data": {
      "text/plain": [
       "array([ 5, 10, 15, 20, 25])"
      ]
     },
     "execution_count": 4,
     "metadata": {},
     "output_type": "execute_result"
    }
   ],
   "source": [
    "#Creating a NumPy array with 5 values\n",
    "x=np.array([5,10,15,20,25])\n",
    "x"
   ]
  },
  {
   "cell_type": "code",
   "execution_count": 5,
   "id": "76d7359b-4cb0-4b11-8f4d-acbe983ffc3b",
   "metadata": {},
   "outputs": [
    {
     "data": {
      "text/plain": [
       "array([ 2,  4,  6,  8, 10, 12, 14, 16, 18, 20])"
      ]
     },
     "execution_count": 5,
     "metadata": {},
     "output_type": "execute_result"
    }
   ],
   "source": [
    "#Creating a NumPy with 10 values\n",
    "y=np.array([2,4,6,8,10,12,14,16,18,20])\n",
    "y"
   ]
  },
  {
   "cell_type": "code",
   "execution_count": 6,
   "id": "39e37faa-34c4-4999-87e2-46ff9ff68e02",
   "metadata": {},
   "outputs": [
    {
     "data": {
      "text/plain": [
       "(5,)"
      ]
     },
     "execution_count": 6,
     "metadata": {},
     "output_type": "execute_result"
    }
   ],
   "source": [
    "#Checking the shape of X\n",
    "x.shape"
   ]
  },
  {
   "cell_type": "code",
   "execution_count": 7,
   "id": "db6f0e86-50ca-4042-98e3-6ffbcf2a73dd",
   "metadata": {},
   "outputs": [
    {
     "data": {
      "text/plain": [
       "1"
      ]
     },
     "execution_count": 7,
     "metadata": {},
     "output_type": "execute_result"
    }
   ],
   "source": [
    "#Checking the dimension of X\n",
    "x.ndim"
   ]
  },
  {
   "cell_type": "code",
   "execution_count": 8,
   "id": "caf39402-3a7b-476c-a2c4-9703680d93be",
   "metadata": {},
   "outputs": [
    {
     "data": {
      "text/plain": [
       "array([[1, 2],\n",
       "       [3, 4]])"
      ]
     },
     "execution_count": 8,
     "metadata": {},
     "output_type": "execute_result"
    }
   ],
   "source": [
    "c=np.array([[1,2],[3,4]])\n",
    "c"
   ]
  },
  {
   "cell_type": "code",
   "execution_count": 9,
   "id": "9d0eb32c-bdd3-4b10-86a0-73db3e9f905c",
   "metadata": {},
   "outputs": [
    {
     "data": {
      "text/plain": [
       "(2, 2)"
      ]
     },
     "execution_count": 9,
     "metadata": {},
     "output_type": "execute_result"
    }
   ],
   "source": [
    "#Checking the shape of C\n",
    "c.shape"
   ]
  },
  {
   "cell_type": "code",
   "execution_count": 10,
   "id": "fa7850f5-44e0-45de-a98e-1ab838659c0e",
   "metadata": {},
   "outputs": [
    {
     "data": {
      "text/plain": [
       "2"
      ]
     },
     "execution_count": 10,
     "metadata": {},
     "output_type": "execute_result"
    }
   ],
   "source": [
    "#Checking the dimension of C\n",
    "c.ndim"
   ]
  },
  {
   "cell_type": "code",
   "execution_count": 11,
   "id": "4df92f73-22d6-4ab7-ba6b-c92b5ffeff63",
   "metadata": {},
   "outputs": [
    {
     "data": {
      "text/plain": [
       "array([[ 2,  4],\n",
       "       [ 6,  8],\n",
       "       [10, 12],\n",
       "       [14, 16],\n",
       "       [18, 20]])"
      ]
     },
     "execution_count": 11,
     "metadata": {},
     "output_type": "execute_result"
    }
   ],
   "source": [
    "2\n",
    "#Creating an array called D\n",
    "d=np.array([[2,4],[6,8],[10,12],[14,16],[18,20]])\n",
    "d"
   ]
  },
  {
   "cell_type": "code",
   "execution_count": 12,
   "id": "6a52325c-ad85-4a04-bcf7-9f91858ee427",
   "metadata": {},
   "outputs": [
    {
     "data": {
      "text/plain": [
       "2"
      ]
     },
     "execution_count": 12,
     "metadata": {},
     "output_type": "execute_result"
    }
   ],
   "source": [
    "#Checking the dimension\n",
    "d.ndim"
   ]
  },
  {
   "cell_type": "code",
   "execution_count": 13,
   "id": "f62900d1-f40d-4e34-8c45-3ea13da28f5e",
   "metadata": {},
   "outputs": [
    {
     "data": {
      "text/plain": [
       "(5, 2)"
      ]
     },
     "execution_count": 13,
     "metadata": {},
     "output_type": "execute_result"
    }
   ],
   "source": [
    "#Checking its shape\n",
    "d.shape"
   ]
  },
  {
   "cell_type": "code",
   "execution_count": 14,
   "id": "c3e66a1d-83de-4b14-81c0-b34879a66a30",
   "metadata": {},
   "outputs": [
    {
     "data": {
      "text/plain": [
       "dtype('int64')"
      ]
     },
     "execution_count": 14,
     "metadata": {},
     "output_type": "execute_result"
    }
   ],
   "source": [
    "#Checking the data type of D\n",
    "d.dtype"
   ]
  },
  {
   "cell_type": "code",
   "execution_count": 15,
   "id": "64e92a57-386d-41ea-9c5f-e4b4324e73ec",
   "metadata": {},
   "outputs": [
    {
     "data": {
      "text/plain": [
       "np.int64(6)"
      ]
     },
     "execution_count": 15,
     "metadata": {},
     "output_type": "execute_result"
    }
   ],
   "source": [
    "y[2]   #Indexing"
   ]
  },
  {
   "cell_type": "code",
   "execution_count": 16,
   "id": "ee247836-9d89-47d2-aaf6-738b355f5736",
   "metadata": {},
   "outputs": [
    {
     "data": {
      "text/plain": [
       "array([ 6,  8, 10, 12])"
      ]
     },
     "execution_count": 16,
     "metadata": {},
     "output_type": "execute_result"
    }
   ],
   "source": [
    "y[2:6] #Slicing"
   ]
  },
  {
   "cell_type": "code",
   "execution_count": 17,
   "id": "50a98719-8a98-4079-a833-b615138b1bcf",
   "metadata": {},
   "outputs": [
    {
     "data": {
      "text/plain": [
       "array([11, 42, 53])"
      ]
     },
     "execution_count": 17,
     "metadata": {},
     "output_type": "execute_result"
    }
   ],
   "source": [
    "a+b    #Addition"
   ]
  },
  {
   "cell_type": "code",
   "execution_count": 18,
   "id": "b478b154-b00e-4696-818c-21f2be031b87",
   "metadata": {},
   "outputs": [
    {
     "data": {
      "text/plain": [
       "array([ -9, -38, -47])"
      ]
     },
     "execution_count": 18,
     "metadata": {},
     "output_type": "execute_result"
    }
   ],
   "source": [
    "a-b    #Subtraction"
   ]
  },
  {
   "cell_type": "code",
   "execution_count": 19,
   "id": "e666248f-be73-467b-9497-09fad1d0c889",
   "metadata": {},
   "outputs": [
    {
     "data": {
      "text/plain": [
       "array([ 10,  80, 150])"
      ]
     },
     "execution_count": 19,
     "metadata": {},
     "output_type": "execute_result"
    }
   ],
   "source": [
    "a*b    #Multiplication"
   ]
  },
  {
   "cell_type": "code",
   "execution_count": 20,
   "id": "91ef9886-2e5f-4b2b-a11a-af292c2db9f3",
   "metadata": {},
   "outputs": [
    {
     "data": {
      "text/plain": [
       "array([0.1 , 0.05, 0.06])"
      ]
     },
     "execution_count": 20,
     "metadata": {},
     "output_type": "execute_result"
    }
   ],
   "source": [
    "\n",
    "a/b    #Division"
   ]
  },
  {
   "cell_type": "code",
   "execution_count": 21,
   "id": "1600681a-3470-4edb-b8c4-f03846406094",
   "metadata": {},
   "outputs": [
    {
     "data": {
      "text/plain": [
       "array([2.23606798, 3.16227766, 3.87298335, 4.47213595, 5.        ])"
      ]
     },
     "execution_count": 21,
     "metadata": {},
     "output_type": "execute_result"
    }
   ],
   "source": [
    "np.sqrt(x) #Taking square root"
   ]
  },
  {
   "cell_type": "code",
   "execution_count": 22,
   "id": "07d8ddce-b5d5-4fb1-ba2c-249c49c27d15",
   "metadata": {},
   "outputs": [
    {
     "data": {
      "text/plain": [
       "array([ 2.71828183,  7.3890561 , 20.08553692])"
      ]
     },
     "execution_count": 22,
     "metadata": {},
     "output_type": "execute_result"
    }
   ],
   "source": [
    "np.exp(a)  #Taking Exponential"
   ]
  },
  {
   "cell_type": "code",
   "execution_count": 23,
   "id": "6338bf7b-a10f-4caa-902a-78b7f9c04cc3",
   "metadata": {},
   "outputs": [
    {
     "data": {
      "text/plain": [
       "2.718"
      ]
     },
     "execution_count": 23,
     "metadata": {},
     "output_type": "execute_result"
    }
   ],
   "source": [
    "#How exponent are calculated?\n",
    "2.718**1"
   ]
  },
  {
   "cell_type": "code",
   "execution_count": 24,
   "id": "28927758-6d81-4e4d-975d-024494ba4363",
   "metadata": {},
   "outputs": [
    {
     "data": {
      "text/plain": [
       "7.387524"
      ]
     },
     "execution_count": 24,
     "metadata": {},
     "output_type": "execute_result"
    }
   ],
   "source": [
    "2.718**2"
   ]
  },
  {
   "cell_type": "code",
   "execution_count": 25,
   "id": "627b616b-eb74-4db4-8763-02443d8991af",
   "metadata": {},
   "outputs": [
    {
     "data": {
      "text/plain": [
       "20.079290231999998"
      ]
     },
     "execution_count": 25,
     "metadata": {},
     "output_type": "execute_result"
    }
   ],
   "source": [
    "2.718**3"
   ]
  },
  {
   "cell_type": "code",
   "execution_count": 26,
   "id": "2e52d13f-5c63-44a8-ab9c-2a2b8ed8ac4a",
   "metadata": {},
   "outputs": [
    {
     "data": {
      "text/plain": [
       "array([ 0,  1,  2,  3,  4,  5,  6,  7,  8,  9, 10, 11])"
      ]
     },
     "execution_count": 26,
     "metadata": {},
     "output_type": "execute_result"
    }
   ],
   "source": [
    "e=np.arange(12) #Using arange function\n",
    "e\n"
   ]
  },
  {
   "cell_type": "code",
   "execution_count": 27,
   "id": "231d8293-edde-4a94-973d-6205442452c3",
   "metadata": {},
   "outputs": [
    {
     "data": {
      "text/plain": [
       "(12,)"
      ]
     },
     "execution_count": 27,
     "metadata": {},
     "output_type": "execute_result"
    }
   ],
   "source": [
    "e.shape    #Checking e's shape"
   ]
  },
  {
   "cell_type": "code",
   "execution_count": 28,
   "id": "ce117b47-6a50-4269-9848-7b5899c57054",
   "metadata": {},
   "outputs": [
    {
     "data": {
      "text/plain": [
       "1"
      ]
     },
     "execution_count": 28,
     "metadata": {},
     "output_type": "execute_result"
    }
   ],
   "source": [
    "e.ndim    #Checking e's dimension"
   ]
  },
  {
   "cell_type": "code",
   "execution_count": 29,
   "id": "0659f128-20db-46e7-b28d-5283da189096",
   "metadata": {},
   "outputs": [
    {
     "data": {
      "text/plain": [
       "dtype('int64')"
      ]
     },
     "execution_count": 29,
     "metadata": {},
     "output_type": "execute_result"
    }
   ],
   "source": [
    "e.dtype   #Checking e's datatype"
   ]
  },
  {
   "cell_type": "code",
   "execution_count": 30,
   "id": "82938601-920f-43b7-be6a-3c73f3e65dc8",
   "metadata": {},
   "outputs": [
    {
     "data": {
      "text/plain": [
       "array([[ 0,  1,  2,  3],\n",
       "       [ 4,  5,  6,  7],\n",
       "       [ 8,  9, 10, 11]])"
      ]
     },
     "execution_count": 30,
     "metadata": {},
     "output_type": "execute_result"
    }
   ],
   "source": [
    "#Reshaping\n",
    "w=e.reshape((3,4))\n",
    "w"
   ]
  },
  {
   "cell_type": "code",
   "execution_count": 31,
   "id": "80b99bc0-16d8-4fe3-a85c-9b2b22588ee6",
   "metadata": {},
   "outputs": [
    {
     "data": {
      "text/plain": [
       "(3, 4)"
      ]
     },
     "execution_count": 31,
     "metadata": {},
     "output_type": "execute_result"
    }
   ],
   "source": [
    "w.shape #Checking W's shape"
   ]
  },
  {
   "cell_type": "code",
   "execution_count": 32,
   "id": "82844e4e-399f-47ed-9e82-dca286d34ba7",
   "metadata": {},
   "outputs": [
    {
     "data": {
      "text/plain": [
       "2"
      ]
     },
     "execution_count": 32,
     "metadata": {},
     "output_type": "execute_result"
    }
   ],
   "source": [
    "w.ndim #Checking W's dimension"
   ]
  },
  {
   "cell_type": "code",
   "execution_count": 33,
   "id": "2d74d2cf-19a8-4409-8ddd-97a37aa3e6e7",
   "metadata": {},
   "outputs": [
    {
     "data": {
      "text/plain": [
       "dtype('int64')"
      ]
     },
     "execution_count": 33,
     "metadata": {},
     "output_type": "execute_result"
    }
   ],
   "source": [
    "w.dtype #Checking W's datatype"
   ]
  },
  {
   "cell_type": "code",
   "execution_count": null,
   "id": "f9ca72d7-ea8b-4afe-b7d2-d3e9523251b3",
   "metadata": {},
   "outputs": [],
   "source": []
  }
 ],
 "metadata": {
  "kernelspec": {
   "display_name": "Python [conda env:base] *",
   "language": "python",
   "name": "conda-base-py"
  },
  "language_info": {
   "codemirror_mode": {
    "name": "ipython",
    "version": 3
   },
   "file_extension": ".py",
   "mimetype": "text/x-python",
   "name": "python",
   "nbconvert_exporter": "python",
   "pygments_lexer": "ipython3",
   "version": "3.13.5"
  }
 },
 "nbformat": 4,
 "nbformat_minor": 5
}
